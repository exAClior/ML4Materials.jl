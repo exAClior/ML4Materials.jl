{
 "cells": [
  {
   "cell_type": "markdown",
   "metadata": {},
   "source": [
    "# Preparation\n",
    "Firstly, I will repeat the steps in the example notebook to get the data and do some basic data cleaning."
   ]
  },
  {
   "cell_type": "code",
   "execution_count": null,
   "metadata": {},
   "outputs": [],
   "source": [
    "import numpy as np\n",
    "from pymatgen.io.cif import CifParser\n",
    "from urllib.request import urlopen\n",
    "\n",
    "request = urlopen(\"https://raw.githubusercontent.com/sheriftawfikabbas/crystalfeatures/master/Li10Ge(PS6)2_mp-696128_computed.cif\")\n",
    "cifFile = request.read().decode('utf-8')\n",
    "parser = CifParser.from_string(cifFile)\n",
    "\n",
    "structure = parser.get_structures()\n",
    "# Returns a list of Structure objects\n",
    "# #http://pymatgen.org/_modules/pymatgen/core/structure.html\n",
    "# Let's print the first (and only) Structure object\n",
    "print(structure[0])\n",
    "\n",
    "from pymatgen.ext.matproj import MPRester\n",
    "from pymatgen.ext.matproj import MPRestError\n",
    "\n",
    "m = MPRester(\"Ua7LfrKkn9yTWA3t\")\n",
    "results=m.query({\"band_gap\": {\"$gt\": 6}},properties=[\"material_id\"])"
   ]
  }
 ],
 "metadata": {
  "kernelspec": {
   "display_name": "ml4m",
   "language": "python",
   "name": "python3"
  },
  "language_info": {
   "name": "python",
   "version": "3.10.13"
  }
 },
 "nbformat": 4,
 "nbformat_minor": 2
}
